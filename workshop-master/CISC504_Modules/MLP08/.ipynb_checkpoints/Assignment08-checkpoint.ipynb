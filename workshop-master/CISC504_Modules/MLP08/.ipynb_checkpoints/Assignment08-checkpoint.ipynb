{
 "cells": [
  {
   "cell_type": "markdown",
   "metadata": {},
   "source": [
    " <h1 style=\"text-align:center\">Harrisburg University of Science & Technology</h1>\n",
    "    <h2 style=\"text-align:center\">CISC 504 Principles of Programming Languages </h2>\n",
    "    <h3 style=\"text-align:center\">Assignment 8: Software Development</h3>\n"
   ]
  },
  {
   "cell_type": "markdown",
   "metadata": {},
   "source": [
    "<h3>Instructions:</h3>\n",
    "<li/>Use as many code cells as you need to implement the tasks in below.\n",
    "<li/>Submit a Jupyter Notebook (iPython) doc including a 5 minutes walk-through recording (a YouTube recordings is highly recommended.)\n",
    "<li/><b>DO NOT JUST SUBMIT THE NOTEBOOK</b>"
   ]
  },
  {
   "cell_type": "markdown",
   "metadata": {},
   "source": [
    "<h3> (1) Debugging Sample Python Code for an Application</h3>\n",
    "\n",
    "We want to create a picnic basket for yourself depending on how you are feeling, healthy/not healthy, hungry/not hungry. \n",
    "\n",
    "The code that you have is working correctly for two scenarios, but for the third it is breaking. See the following output:\n",
    "\n",
    "<table>\n",
    "    <thead>\n",
    "            <tr>\n",
    "                <th>Healthy?</th>\n",
    "                <th>Hungry?</th>\n",
    "                <th>Initial Basket</th>\n",
    "                <th>Output </th>\n",
    "            </tr>\n",
    "    </thead>\n",
    "    <tbody>\n",
    "        <tr>\n",
    "            <td>True</td>\n",
    "            <td>False</td>\n",
    "            <td>-</td>\n",
    "            <td>['orange', 'apple', 'strawberry']</td>\n",
    "        </tr>\n",
    "        <tr>\n",
    "            <td>False</td>\n",
    "            <td>True</td>\n",
    "            <td>['tea']</td>\n",
    "            <td>['tea', 'jam', 'sandwhich']</td>\n",
    "        </tr>\n",
    "        <tr>\n",
    "            <td>True</td>\n",
    "            <td>True</td>\n",
    "            <td>-</td>\n",
    "            <td>['orange', 'apple', 'strawberry', 'strawberry', 'sandwhich']</td>\n",
    "        </tr>\n",
    "    </tbody>\n",
    "</table>\n",
    "\n",
    "The print statements at the end of the gist can be used to help you debug your code. The outputs should be as follows: \n",
    "\n",
    "<code>\n",
    "print(\"First basket:\", create_picnic_basket(True, False)) # ['orange', 'apple', 'strawberry']\n",
    "print(\"Second basket:\", create_picnic_basket(False, True, [\"tea\"])) #['tea', 'jam', 'sandwhich']\n",
    "print(\"Third basket:\", create_picnic_basket(True, True)) #['orange', 'apple', 'strawberry', 'sandwhich']\n",
    "</code>\n",
    "\n",
    "You need to fix the code from the gist provided below:\n",
    "    \n",
    "Clone the following Gist:   https://gist.github.com/30b9d4ec4a8f41b10ba8ca71c06d7827.git   . \n",
    "\n",
    "Use <code>git clone https://gist.github.com/30b9d4ec4a8f41b10ba8ca71c06d7827.git</code> from your command line if possible.\n",
    "\n",
    "Debug the code and find the error. \n",
    "Commit your changes and push your commits to a remote server. \n",
    "\n",
    "\n",
    "\n",
    "<b>This assignment will require you to create a <a href=\"https://github.com/\">GitHub account</a> (free and highly recommended for all aspiring software engineers), and use the git terminal, downloadable <a href=\"https://git-scm.com/downloads\">here</a></b>\n",
    "\n",
    "\n",
    "\n"
   ]
  },
  {
   "cell_type": "code",
   "execution_count": 1,
   "metadata": {},
   "outputs": [
    {
     "name": "stdout",
     "output_type": "stream",
     "text": [
      "First basket: ['orange', 'apple', 'strawberry']\n",
      "Second basket: ['tea', 'jam', 'sandwich']\n",
      "Third basket: ['orange', 'apple', 'strawberry', 'strawberry', 'sandwich']\n"
     ]
    }
   ],
   "source": [
    "DEFAULT_INITIAL_BASKET = [\"orange\", \"apple\"]\n",
    "\n",
    "def create_picnic_basket(healthy, hungry, initial_basket=DEFAULT_INITIAL_BASKET):\n",
    "    basket = initial_basket\n",
    "    if healthy:\n",
    "        basket.append(\"strawberry\")\n",
    "    else:\n",
    "        basket.append(\"jam\")\n",
    "\n",
    "    if hungry:\n",
    "        basket.append(\"sandwich\")\n",
    "    return basket\n",
    "\n",
    "# Reproducer\n",
    "print(\"First basket:\", create_picnic_basket(True, False))\n",
    "print(\"Second basket:\", create_picnic_basket(False, True, [\"tea\"]))\n",
    "print(\"Third basket:\", create_picnic_basket(True, True))"
   ]
  },
  {
   "cell_type": "code",
   "execution_count": 1,
   "metadata": {},
   "outputs": [
    {
     "name": "stdout",
     "output_type": "stream",
     "text": [
      "Cloning into '30b9d4ec4a8f41b10ba8ca71c06d7827'...\n",
      "remote: Enumerating objects: 6, done.\u001b[K\n",
      "remote: Total 6 (delta 0), reused 0 (delta 0), pack-reused 6\u001b[K\n",
      "Unpacking objects: 100% (6/6), done.\n"
     ]
    }
   ],
   "source": [
    "! cd /home/jovyan/workshop-master/CISC504_Modules/MLP08/\n",
    "! git clone https://gist.github.com/30b9d4ec4a8f41b10ba8ca71c06d7827.git"
   ]
  },
  {
   "cell_type": "code",
   "execution_count": 7,
   "metadata": {},
   "outputs": [
    {
     "name": "stdout",
     "output_type": "stream",
     "text": [
      "On branch master\r\n",
      "Your branch is up to date with 'origin/master'.\r\n",
      "\r\n",
      "Changes to be committed:\r\n",
      "  (use \"git reset HEAD <file>...\" to unstage)\r\n",
      "\r\n",
      "\t\u001b[32mnew file:   .ipynb_checkpoints/Assignment08-checkpoint.ipynb\u001b[m\r\n",
      "\t\u001b[32mnew file:   30b9d4ec4a8f41b10ba8ca71c06d7827\u001b[m\r\n",
      "\t\u001b[32mmodified:   Assignment08.ipynb\u001b[m\r\n",
      "\r\n",
      "Changes not staged for commit:\r\n",
      "  (use \"git add <file>...\" to update what will be committed)\r\n",
      "  (use \"git checkout -- <file>...\" to discard changes in working directory)\r\n",
      "  (commit or discard the untracked or modified content in submodules)\r\n",
      "\r\n",
      "\t\u001b[31mmodified:   ../MLP03/Assignment03-1.ipynb\u001b[m\r\n",
      "\t\u001b[31mmodified:   ../MLP06/Assignment06.ipynb\u001b[m\r\n",
      "\t\u001b[31mmodified:   30b9d4ec4a8f41b10ba8ca71c06d7827\u001b[m (modified content)\r\n",
      "\t\u001b[31mmodified:   Assignment08.ipynb\u001b[m\r\n",
      "\t\u001b[31mmodified:   ../../Jupyterhub Notebooks/Python notebooks/beginner/exercises/classes_exercise.ipynb\u001b[m\r\n",
      "\r\n",
      "Untracked files:\r\n",
      "  (use \"git add <file>...\" to include in what will be committed)\r\n",
      "\r\n",
      "\t\u001b[31m../MLP03/.ipynb_checkpoints/\u001b[m\r\n",
      "\t\u001b[31m../../Jupyterhub Notebooks/Python notebooks/beginner/exercises/.ipynb_checkpoints/\u001b[m\r\n",
      "\r\n"
     ]
    }
   ],
   "source": [
    "! git status"
   ]
  },
  {
   "cell_type": "code",
   "execution_count": 6,
   "metadata": {},
   "outputs": [
    {
     "name": "stdout",
     "output_type": "stream",
     "text": [
      "fatal: pathspec 'CISC504_Modules/MLP08/30b9d4ec4a8f41b10ba8ca71c06d7827' did not match any files\r\n"
     ]
    }
   ],
   "source": [
    "! git add CISC504_Modules/MLP08/30b9d4ec4a8f41b10ba8ca71c06d7827"
   ]
  },
  {
   "cell_type": "code",
   "execution_count": 8,
   "metadata": {
    "scrolled": true
   },
   "outputs": [
    {
     "name": "stdout",
     "output_type": "stream",
     "text": [
      "[master e80eb18] reproduce assignment 8\r\n",
      " 3 files changed, 271 insertions(+), 2 deletions(-)\r\n",
      " create mode 100644 CISC504_Modules/MLP08/.ipynb_checkpoints/Assignment08-checkpoint.ipynb\r\n",
      " create mode 160000 CISC504_Modules/MLP08/30b9d4ec4a8f41b10ba8ca71c06d7827\r\n"
     ]
    }
   ],
   "source": [
    "! git commit -m \"reproduce assignment 8\""
   ]
  },
  {
   "cell_type": "code",
   "execution_count": 9,
   "metadata": {},
   "outputs": [
    {
     "name": "stdout",
     "output_type": "stream",
     "text": [
      "Username for 'https://github.com': ^C\n"
     ]
    }
   ],
   "source": [
    "! git push"
   ]
  },
  {
   "cell_type": "code",
   "execution_count": null,
   "metadata": {},
   "outputs": [],
   "source": []
  }
 ],
 "metadata": {
  "kernelspec": {
   "display_name": "Python 3",
   "language": "python",
   "name": "python3"
  },
  "language_info": {
   "codemirror_mode": {
    "name": "ipython",
    "version": 3
   },
   "file_extension": ".py",
   "mimetype": "text/x-python",
   "name": "python",
   "nbconvert_exporter": "python",
   "pygments_lexer": "ipython3",
   "version": "3.8.2"
  }
 },
 "nbformat": 4,
 "nbformat_minor": 4
}
